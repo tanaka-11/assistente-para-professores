{
  "nbformat": 4,
  "nbformat_minor": 0,
  "metadata": {
    "colab": {
      "provenance": [],
      "authorship_tag": "ABX9TyPxCd65Ca1EWATbad4/IBoi"
    },
    "kernelspec": {
      "name": "python3",
      "display_name": "Python 3"
    },
    "language_info": {
      "name": "python"
    }
  },
  "cells": [
    {
      "cell_type": "markdown",
      "source": [
        "# Projeto Assistente para Professores\n",
        "\n",
        "Passo a passo de como fazer o chatbot como um assistente para professores mais velhos poderem ter contato com as novas tecnologias do mercado\n",
        "\n",
        "---"
      ],
      "metadata": {
        "id": "KfNHxNWZk6DC"
      }
    },
    {
      "cell_type": "markdown",
      "source": [
        "**Instalação da IA ao projeto**\n"
      ],
      "metadata": {
        "id": "dTTkikZ4kgQy"
      }
    },
    {
      "cell_type": "code",
      "execution_count": 44,
      "metadata": {
        "id": "I4SWOOUPhRai"
      },
      "outputs": [],
      "source": [
        "!pip install -q -U google-generativeai"
      ]
    },
    {
      "cell_type": "markdown",
      "source": [
        "**Configuração da API Key**"
      ],
      "metadata": {
        "id": "2uqw8vckqjp_"
      }
    },
    {
      "cell_type": "code",
      "source": [
        "# Configurações iniciais\n",
        "\n",
        "# Importação com apelido\n",
        "import google.generativeai as genai\n",
        "from google.colab import userdata\n",
        "\n",
        "# API Key escondida\n",
        "api_key = userdata.get(\"SECRET_KEY\")\n",
        "\n",
        "# Configuração da API Key\n",
        "genai.configure(api_key=api_key)\n"
      ],
      "metadata": {
        "id": "3zYu3N-prW5_"
      },
      "execution_count": 45,
      "outputs": []
    },
    {
      "cell_type": "markdown",
      "source": [
        "**Configurações de parametros**"
      ],
      "metadata": {
        "id": "19uph-PTrfKx"
      }
    },
    {
      "cell_type": "code",
      "source": [
        "# candidate_count = Numero de opções da resposta\n",
        "# temperature = Criatividade na resposta do chatbot de 0 a 1, sendo 1 mais criativo e 0 mais preciso\n",
        "\n",
        "generation_config = {\n",
        "  \"candidate_count\": 1,\n",
        "  \"temperature\": 0.5,\n",
        "}\n"
      ],
      "metadata": {
        "id": "yqQ5MG-orh1v"
      },
      "execution_count": 46,
      "outputs": []
    },
    {
      "cell_type": "markdown",
      "source": [
        "**Configurações de segurança**"
      ],
      "metadata": {
        "id": "T3XQEzwIrwOX"
      }
    },
    {
      "cell_type": "code",
      "source": [
        "# Configurações de segurança das palavras ditas pelo chatbot\n",
        "\n",
        "safety_settings = {\n",
        "    \"HATE\": \"BLOCK_NONE\",\n",
        "    \"HARASSMENT\": \"BLOCK_NONE\",\n",
        "    \"SEXUAL\": \"BLOCK_NONE\",\n",
        "    \"DANGEROUS\": \"BLOCK_NONE\",\n",
        "}\n"
      ],
      "metadata": {
        "id": "98L23HD2rxdv"
      },
      "execution_count": 51,
      "outputs": []
    },
    {
      "cell_type": "markdown",
      "source": [
        "**Inicializando o modelo**"
      ],
      "metadata": {
        "id": "Fn4tNIadr3yn"
      }
    },
    {
      "cell_type": "code",
      "source": [
        "# Inicilizando modelo gemini\n",
        "model = genai.GenerativeModel(model_name=\"gemini-1.0-pro\",\n",
        "                              generation_config=generation_config,\n",
        "                              safety_settings=safety_settings)"
      ],
      "metadata": {
        "id": "ynKLulFL0yvN"
      },
      "execution_count": 52,
      "outputs": []
    },
    {
      "cell_type": "markdown",
      "source": [
        "**Criando o chatbot**"
      ],
      "metadata": {
        "id": "xO-GeRTi2DkF"
      }
    },
    {
      "cell_type": "code",
      "source": [
        "# Iniciando o chat começando com o historico vazio\n",
        "chat = model.start_chat(history=[])\n",
        "\n",
        "# Criando o prompt para pergunta do usuario\n",
        "prompt = input(\"Esperando sua pergunta: \")\n",
        "\n",
        "# Loop para o chat funcionar ate o usuario encerrar\n",
        "while prompt != \"fim\":\n",
        "  # Guardando mensagem enviada recebendo o valor da prompt\n",
        "  response = chat.send_message(prompt)\n",
        "  print(\"Resposta: \", response.text, '\\n')\n",
        "  prompt = input(\"Esperando sua pergunta: \")"
      ],
      "metadata": {
        "colab": {
          "base_uri": "https://localhost:8080/",
          "height": 538
        },
        "id": "GahBPesQ2e_9",
        "outputId": "1ceaf447-73cf-4a14-be4c-31ee17647a91"
      },
      "execution_count": 54,
      "outputs": [
        {
          "name": "stdout",
          "output_type": "stream",
          "text": [
            "Esperando sua pergunta: Crie 5 contas de adição para utilizar como exercicio\n",
            "Resposta:  1. 25 + 17 =\n",
            "2. 42 + 36 =\n",
            "3. 105 + 214 =\n",
            "4. 678 + 456 =\n",
            "5. 987 + 123 = \n",
            "\n",
            "Esperando sua pergunta: agora faça os resultados dessas contas\n",
            "Resposta:  1. 25 + 17 = **42**\n",
            "2. 42 + 36 = **78**\n",
            "3. 105 + 214 = **319**\n",
            "4. 678 + 456 = **1134**\n",
            "5. 987 + 123 = **1110** \n",
            "\n",
            "Esperando sua pergunta: agora faça contas de subtração\n",
            "Resposta:  1. 45 - 17 =\n",
            "2. 78 - 36 =\n",
            "3. 319 - 214 =\n",
            "4. 1134 - 456 =\n",
            "5. 1110 - 123 =\n",
            "\n",
            "**Respostas:**\n",
            "\n",
            "1. 45 - 17 = **28**\n",
            "2. 78 - 36 = **42**\n",
            "3. 319 - 214 = **105**\n",
            "4. 1134 - 456 = **678**\n",
            "5. 1110 - 123 = **987** \n",
            "\n",
            "Esperando sua pergunta: fim\n"
          ]
        }
      ]
    }
  ]
}